{
 "cells": [
  {
   "cell_type": "code",
   "execution_count": 4,
   "metadata": {},
   "outputs": [],
   "source": [
    "import numpy as np\n",
    "import pandas as pd\n",
    "import matplotlib.pyplot as plt\n",
    "import warnings\n",
    "warnings.filterwarnings('ignore')"
   ]
  },
  {
   "cell_type": "code",
   "execution_count": 2,
   "metadata": {},
   "outputs": [],
   "source": [
    "from turtle import Turtle, Screen"
   ]
  },
  {
   "cell_type": "code",
   "execution_count": 3,
   "metadata": {},
   "outputs": [
    {
     "name": "stdout",
     "output_type": "stream",
     "text": [
      "What is the radius of the flower? 100\n",
      "How many petals do you want? 15\n"
     ]
    }
   ],
   "source": [
    "def draw_petal(turtle, radius):\n",
    "    heading=turtle.heading()\n",
    "    turtle.circle(radius, 60)\n",
    "    turtle.left(120)\n",
    "    turtle.circle(radius, 60)\n",
    "    turtle.setheading(heading)\n",
    "\n",
    "my_radius=int(input(\"What is the radius of the flower? \"))\n",
    "my_petals=int(input(\"How many petals do you want? \"))\n",
    "\n",
    "bob=Turtle()\n",
    "\n",
    "for _ in range(my_petals):\n",
    "    draw_petal(bob, my_radius)\n",
    "    bob.left(360/my_petals)\n",
    "\n",
    "bob.hideturtle()\n",
    "\n",
    "screen=Screen()\n",
    "screen.exitonclick()"
   ]
  },
  {
   "cell_type": "code",
   "execution_count": null,
   "metadata": {},
   "outputs": [],
   "source": []
  }
 ],
 "metadata": {
  "kernelspec": {
   "display_name": "Python 3",
   "language": "python",
   "name": "python3"
  },
  "language_info": {
   "codemirror_mode": {
    "name": "ipython",
    "version": 3
   },
   "file_extension": ".py",
   "mimetype": "text/x-python",
   "name": "python",
   "nbconvert_exporter": "python",
   "pygments_lexer": "ipython3",
   "version": "3.7.4"
  }
 },
 "nbformat": 4,
 "nbformat_minor": 2
}
